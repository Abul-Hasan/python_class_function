{
 "cells": [
  {
   "cell_type": "code",
   "execution_count": 4,
   "metadata": {},
   "outputs": [
    {
     "name": "stdout",
     "output_type": "stream",
     "text": [
      "101 abcd acv@aaa.com 9876543212\n"
     ]
    }
   ],
   "source": [
    "class emp:\n",
    "    def __init__(self,id,name,email,contact):\n",
    "        self.id=id\n",
    "        self.name=name\n",
    "        self.email=email\n",
    "        self.contact=contact\n",
    "        \n",
    "    def set_dept(self,dept_name):\n",
    "        self.dept=dept_name\n",
    "        \n",
    "    def __str__(self):\n",
    "        \n",
    "        return \"{}{}{}\".format(self.id,self.name,self.email)\n",
    "    \n",
    "    \n",
    "emp1=emp(101,\"abcd\",\"acv@aaa.com\",\"9876543212\")\n",
    "print(emp1.id,emp1.name,emp1.email,emp1.contact)"
   ]
  },
  {
   "cell_type": "code",
   "execution_count": 20,
   "metadata": {},
   "outputs": [
    {
     "name": "stdout",
     "output_type": "stream",
     "text": [
      "101 abcd acv@aaa.com 9876543212\n",
      "102 hey abd@aaa.com 8976543212\n",
      "{'id': 102, 'name': 'hey', 'email': 'abd@aaa.com', 'contact': '8976543212', 'dept': 'Admin', 'sal': 60000}\n",
      "{'id': 101, 'name': 'abcd', 'email': 'acv@aaa.com', 'contact': '9876543212', 'dept': 'HR', 'sal': 45000}\n",
      "{'id': 102, 'name': 'hey', 'email': 'abd@aaa.com', 'contact': '8976543212', 'dept': 'Admin', 'sal': 120000.0}\n"
     ]
    }
   ],
   "source": [
    "class emp:\n",
    "    def __init__(self,id,name,email,contact):\n",
    "        self.id=id\n",
    "        self.name=name\n",
    "        self.email=email\n",
    "        self.contact=contact\n",
    "        \n",
    "    def set_dept(self,dept_name):\n",
    "        self.dept=dept_name\n",
    "        \n",
    "    def set_sal(self,sal):\n",
    "        self.sal=sal\n",
    "            \n",
    "        \n",
    "    def incr_sal(self,per):\n",
    "        self.sal=self.sal+(self.sal* per)/100\n",
    "    \n",
    "    \n",
    "    \n",
    "    def __str__(self):\n",
    "        \n",
    "        return \"{}{}{}\".format(self.id,self.name,self.email)\n",
    "    \n",
    "    \n",
    "emp1=emp(101,\"abcd\",\"acv@aaa.com\",\"9876543212\")\n",
    "print(emp1.id,emp1.name,emp1.email,emp1.contact)   \n",
    "emp2=emp(102,\"hey\",\"abd@aaa.com\",\"8976543212\")\n",
    "print(emp2.id,emp2.name,emp2.email,emp2.contact)\n",
    "\n",
    "\n",
    "emp1.set_dept(\"HR\")\n",
    "emp2.set_dept(\"Admin\")\n",
    "\n",
    "emp1.set_sal(45000)\n",
    "emp2.set_sal(60000)\n",
    "\n",
    "print(emp2.__dict__)\n",
    "emp2.incr_sal(100)\n",
    "\n",
    "print(emp1.__dict__)\n",
    "print(emp2.__dict__)\n"
   ]
  },
  {
   "cell_type": "code",
   "execution_count": 33,
   "metadata": {},
   "outputs": [
    {
     "name": "stdout",
     "output_type": "stream",
     "text": [
      "101 abcd acv@aaa.com 9876543212\n",
      "102 hey abd@aaa.com 8976543212\n",
      "{'id': 102, 'name': 'hey', 'email': 'abd@aaa.com', 'contact': '8976543212', 'dept': 'Admin', 'sal': 60000}\n",
      "{'id': 101, 'name': 'abcd', 'email': 'acv@aaa.com', 'contact': '9876543212', 'dept': 'HR', 'sal': 45000}\n",
      "{'id': 102, 'name': 'hey', 'email': 'abd@aaa.com', 'contact': '8976543212', 'dept': 'Admin', 'sal': 120000.0}\n"
     ]
    }
   ],
   "source": [
    "class emp:\n",
    "    def __init__(self,id,name,email,contact):\n",
    "        self.id=id\n",
    "        self.name=name\n",
    "        self.email=email\n",
    "        self.contact=contact\n",
    "        \n",
    "    def set_dept(self,dept_name):\n",
    "        self.dept=dept_name\n",
    "        \n",
    "    def set_sal(self,sal):\n",
    "        self.sal=sal\n",
    "            \n",
    "        \n",
    "    def incr_sal(self,per):\n",
    "        self.sal=self.sal+(self.sal* per)/100\n",
    "    \n",
    "    \n",
    "    \n",
    "    def __str__(self):\n",
    "        \n",
    "        return \"{}{}{}\".format(self.id,self.name,self.email)\n",
    "    \n",
    "    \n",
    "emp1=emp(101,\"abcd\",\"acv@aaa.com\",\"9876543212\")\n",
    "print(emp1.id,emp1.name,emp1.email,emp1.contact)   \n",
    "emp2=emp(102,\"hey\",\"abd@aaa.com\",\"8976543212\")\n",
    "print(emp2.id,emp2.name,emp2.email,emp2.contact)\n",
    "\n",
    "\n",
    "emp1.set_dept(\"HR\")\n",
    "emp2.set_dept(\"Admin\")\n",
    "\n",
    "emp1.set_sal(45000)\n",
    "emp2.set_sal(60000)\n",
    "\n",
    "print(emp2.__dict__)\n",
    "emp2.incr_sal(100)\n",
    "\n",
    "print(emp1.__dict__)\n",
    "print(emp2.__dict__)\n"
   ]
  },
  {
   "cell_type": "code",
   "execution_count": 26,
   "metadata": {},
   "outputs": [
    {
     "ename": "TypeError",
     "evalue": "course() takes no arguments",
     "output_type": "error",
     "traceback": [
      "\u001b[1;31m---------------------------------------------------------------------------\u001b[0m",
      "\u001b[1;31mTypeError\u001b[0m                                 Traceback (most recent call last)",
      "\u001b[1;32m<ipython-input-26-ae74989ee644>\u001b[0m in \u001b[0;36m<module>\u001b[1;34m\u001b[0m\n\u001b[0;32m     23\u001b[0m \u001b[1;33m\u001b[0m\u001b[0m\n\u001b[0;32m     24\u001b[0m \u001b[1;33m\u001b[0m\u001b[0m\n\u001b[1;32m---> 25\u001b[1;33m \u001b[0mcourse1\u001b[0m\u001b[1;33m=\u001b[0m\u001b[0mcourse\u001b[0m\u001b[1;33m(\u001b[0m\u001b[1;36m1\u001b[0m\u001b[1;33m,\u001b[0m\u001b[1;34m\"python\"\u001b[0m\u001b[1;33m,\u001b[0m\u001b[1;34m\"abc\"\u001b[0m\u001b[1;33m,\u001b[0m\u001b[1;34m\"programming\"\u001b[0m\u001b[1;33m)\u001b[0m\u001b[1;33m\u001b[0m\u001b[1;33m\u001b[0m\u001b[0m\n\u001b[0m\u001b[0;32m     26\u001b[0m \u001b[0mcourse2\u001b[0m\u001b[1;33m=\u001b[0m\u001b[0mcourse\u001b[0m\u001b[1;33m(\u001b[0m\u001b[1;36m2\u001b[0m\u001b[1;33m,\u001b[0m\u001b[1;34m\"ML\"\u001b[0m\u001b[1;33m,\u001b[0m\u001b[1;34m\"def\"\u001b[0m\u001b[1;33m,\u001b[0m\u001b[1;34m\"prog\"\u001b[0m\u001b[1;33m)\u001b[0m\u001b[1;33m\u001b[0m\u001b[1;33m\u001b[0m\u001b[0m\n\u001b[0;32m     27\u001b[0m \u001b[0mcourse3\u001b[0m\u001b[1;33m=\u001b[0m\u001b[0mcourse\u001b[0m\u001b[1;33m(\u001b[0m\u001b[1;36m3\u001b[0m\u001b[1;33m,\u001b[0m\u001b[1;34m\"devops\"\u001b[0m\u001b[1;33m,\u001b[0m\u001b[1;34m\"ghi\"\u001b[0m\u001b[1;33m,\u001b[0m\u001b[1;34m\"pro\"\u001b[0m\u001b[1;33m)\u001b[0m\u001b[1;33m\u001b[0m\u001b[1;33m\u001b[0m\u001b[0m\n",
      "\u001b[1;31mTypeError\u001b[0m: course() takes no arguments"
     ]
    }
   ],
   "source": [
    "class course:\n",
    "    \n",
    "    courses=[]\n",
    "    def __inti__(self,id,name,author,category):\n",
    "        self.c_id = id\n",
    "        self.c_name = name\n",
    "        self.c_author = auth\n",
    "        self.c_category = cat\n",
    "        course.courses.append(self)\n",
    "        \n",
    "class tutorial:\n",
    "        \n",
    "        tut=[]\n",
    "        \n",
    "        def __init__(self,id,name,content,course):\n",
    "            \n",
    "            self.t_id = id\n",
    "            self.t_name = name\n",
    "            self.t_content = content\n",
    "            self.t_course = course\n",
    "            \n",
    "            tutorial.tut.append(self)\n",
    "            \n",
    "            \n",
    "course1=course(1,\"python\",\"abc\",\"programming\")\n",
    "course2=course(2,\"ML\",\"def\",\"prog\")\n",
    "course3=course(3,\"devops\",\"ghi\",\"pro\")\n",
    "\n",
    "\n",
    "tut1=tutorial(101,\"loops\",\"looping stmt\",course1)\n",
    "tut2=tutorial(102,\"list\",\"list\",course2)\n",
    "tut3=tutorial(103,\"devops\",\"principal\",course3)\n",
    " \n",
    "    \n",
    "    \n",
    "for tot in tutorial.tuts:\n",
    "    if tut.t_course.c_author == \"abc\":\n",
    "        print(tut.t_name,tut.t_tutorial)\n",
    "        \n",
    "        \n",
    "        \n",
    "        \n",
    "        \n",
    "        \n",
    "        \n",
    "        \n",
    "        \n",
    "        "
   ]
  },
  {
   "cell_type": "code",
   "execution_count": 31,
   "metadata": {},
   "outputs": [
    {
     "name": "stdout",
     "output_type": "stream",
     "text": [
      "<__main__.profile object at 0x000001BC1E44EBE0>\n"
     ]
    }
   ],
   "source": [
    "class user:\n",
    "    \n",
    "    \n",
    "    def __inti__(self,id,name,email,password):\n",
    "        self.id = id\n",
    "        self.name = name\n",
    "        self.email = email\n",
    "        self.password = pas\n",
    "    #    course.courses.append(self)\n",
    "\n",
    "class profile(user):\n",
    "    \n",
    "    def __inti__(self,id,name,email,password,contact,linkedin):\n",
    "        \n",
    "        super().__inti__(id,name.email,password)\n",
    "        \n",
    "        self.contact=contact\n",
    "        self.linkedin=linkedin\n",
    "        \n",
    "        \n",
    "    def grt_details(self):\n",
    "        name=_details=user.get_details\n",
    "        return \"str from \"\n",
    "        \n",
    "        \n",
    "p1=profile()#(1,\"abul\",\"abul@gmail.com\",\"12345\",\"9876540123\",\"www.linkedin.com/abul\")\n",
    "print(p1)\n",
    "        \n",
    "        "
   ]
  },
  {
   "cell_type": "code",
   "execution_count": null,
   "metadata": {},
   "outputs": [],
   "source": [
    "class user:\n",
    "    \n",
    "    \n",
    "    def __inti__(self,id,name,email,password):\n",
    "        self.id = id\n",
    "        self.name = name\n",
    "        self.email = email\n",
    "        self.__password = pas\n",
    "        \n",
    "        \n",
    "    def get_id(self):\n",
    "        return self.id\n",
    "        \n",
    "    def get_name(self):\n",
    "         return self.name\n",
    "        \n",
    "    def get_email(self):\n",
    "        return self.email\n",
    "    \n",
    "    "
   ]
  },
  {
   "cell_type": "code",
   "execution_count": null,
   "metadata": {},
   "outputs": [],
   "source": []
  },
  {
   "cell_type": "code",
   "execution_count": null,
   "metadata": {},
   "outputs": [],
   "source": []
  }
 ],
 "metadata": {
  "kernelspec": {
   "display_name": "Python 3",
   "language": "python",
   "name": "python3"
  },
  "language_info": {
   "codemirror_mode": {
    "name": "ipython",
    "version": 3
   },
   "file_extension": ".py",
   "mimetype": "text/x-python",
   "name": "python",
   "nbconvert_exporter": "python",
   "pygments_lexer": "ipython3",
   "version": "3.7.3"
  }
 },
 "nbformat": 4,
 "nbformat_minor": 2
}
